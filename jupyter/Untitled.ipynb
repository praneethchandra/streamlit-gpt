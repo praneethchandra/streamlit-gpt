{
 "cells": [
  {
   "cell_type": "code",
   "execution_count": 2,
   "id": "3d88a4cb-1ff2-4fec-9b5c-58b228336a8c",
   "metadata": {},
   "outputs": [],
   "source": [
    "import numpy as np"
   ]
  },
  {
   "cell_type": "code",
   "execution_count": 5,
   "id": "e7009900-6bd2-4518-8ba2-deead3254f22",
   "metadata": {},
   "outputs": [
    {
     "data": {
      "text/plain": [
       "array([[2.96337107]])"
      ]
     },
     "execution_count": 5,
     "metadata": {},
     "output_type": "execute_result"
    }
   ],
   "source": [
    "last_rows = np.random.randn(1,1)\n",
    "last_rows"
   ]
  },
  {
   "cell_type": "code",
   "execution_count": 7,
   "id": "f242a282-d539-4a05-be61-65acf000a919",
   "metadata": {},
   "outputs": [
    {
     "data": {
      "text/plain": [
       "array([[2.96337107]])"
      ]
     },
     "execution_count": 7,
     "metadata": {},
     "output_type": "execute_result"
    }
   ],
   "source": [
    "last_rows[-1:]"
   ]
  },
  {
   "cell_type": "code",
   "execution_count": 9,
   "id": "ce9e9f84-3a38-49b7-92b7-7b624f624022",
   "metadata": {},
   "outputs": [
    {
     "data": {
      "text/plain": [
       "array([[-0.09105457],\n",
       "       [ 0.30759392],\n",
       "       [-0.19792723],\n",
       "       [-1.60453778],\n",
       "       [-1.23442248]])"
      ]
     },
     "execution_count": 9,
     "metadata": {},
     "output_type": "execute_result"
    }
   ],
   "source": [
    "np.random.randn(5,1).cumsum(axis=0)"
   ]
  },
  {
   "cell_type": "code",
   "execution_count": 11,
   "id": "0cd7bf71-c95f-4b0e-ab6f-dae258584621",
   "metadata": {},
   "outputs": [],
   "source": [
    "new_rows = last_rows[-1:] + np.random.randn(5,1).cumsum(axis=0)"
   ]
  },
  {
   "cell_type": "code",
   "execution_count": 12,
   "id": "3cfc2125-6ab1-47f2-97d2-b86f5892279a",
   "metadata": {},
   "outputs": [
    {
     "data": {
      "text/plain": [
       "array([[ 1.94922115],\n",
       "       [ 1.43281042],\n",
       "       [ 1.84576763],\n",
       "       [-0.21933112],\n",
       "       [ 0.15513509]])"
      ]
     },
     "execution_count": 12,
     "metadata": {},
     "output_type": "execute_result"
    }
   ],
   "source": [
    "new_rows"
   ]
  },
  {
   "cell_type": "code",
   "execution_count": null,
   "id": "9c11179b-2f2e-4834-8d2c-0b5f590edf7c",
   "metadata": {},
   "outputs": [],
   "source": []
  }
 ],
 "metadata": {
  "kernelspec": {
   "display_name": "Python 3 (ipykernel)",
   "language": "python",
   "name": "python3"
  },
  "language_info": {
   "codemirror_mode": {
    "name": "ipython",
    "version": 3
   },
   "file_extension": ".py",
   "mimetype": "text/x-python",
   "name": "python",
   "nbconvert_exporter": "python",
   "pygments_lexer": "ipython3",
   "version": "3.9.2"
  }
 },
 "nbformat": 4,
 "nbformat_minor": 5
}
